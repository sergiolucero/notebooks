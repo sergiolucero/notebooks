{
  "nbformat": 4,
  "nbformat_minor": 0,
  "metadata": {
    "colab": {
      "name": "PadronS3.ipynb",
      "provenance": [],
      "authorship_tag": "ABX9TyOMuuJ32z0H5u4twcso8cRw",
      "include_colab_link": true
    },
    "kernelspec": {
      "name": "python3",
      "display_name": "Python 3"
    },
    "language_info": {
      "name": "python"
    }
  },
  "cells": [
    {
      "cell_type": "markdown",
      "metadata": {
        "id": "view-in-github",
        "colab_type": "text"
      },
      "source": [
        "<a href=\"https://colab.research.google.com/github/sergiolucero/notebooks/blob/main/PadronS3.ipynb\" target=\"_parent\"><img src=\"https://colab.research.google.com/assets/colab-badge.svg\" alt=\"Open In Colab\"/></a>"
      ]
    },
    {
      "cell_type": "markdown",
      "source": [
        "## Revisando el padrón\n",
        "Will this cost me in s3 xfer fees?"
      ],
      "metadata": {
        "id": "c0Dcz62um1zL"
      }
    },
    {
      "cell_type": "code",
      "source": [
        "import pandas as pd  # try dask?\n",
        "pdf = pd.read_csv('s3://quantcldata/CLIENTES/SERVEL/padron_servel_2020.csv.gz')"
      ],
      "metadata": {
        "id": "nQq_xBW6m6rC"
      },
      "execution_count": 2,
      "outputs": []
    },
    {
      "cell_type": "code",
      "source": [
        "pdf.head()"
      ],
      "metadata": {
        "colab": {
          "base_uri": "https://localhost:8080/",
          "height": 206
        },
        "id": "Dvhia_jFnI1f",
        "outputId": "c6f88b03-4a18-4b68-ebdd-3615c714354b"
      },
      "execution_count": 3,
      "outputs": [
        {
          "output_type": "execute_result",
          "data": {
            "text/html": [
              "\n",
              "  <div id=\"df-56833eaf-3c74-47b0-b160-99dbf9c190f7\">\n",
              "    <div class=\"colab-df-container\">\n",
              "      <div>\n",
              "<style scoped>\n",
              "    .dataframe tbody tr th:only-of-type {\n",
              "        vertical-align: middle;\n",
              "    }\n",
              "\n",
              "    .dataframe tbody tr th {\n",
              "        vertical-align: top;\n",
              "    }\n",
              "\n",
              "    .dataframe thead th {\n",
              "        text-align: right;\n",
              "    }\n",
              "</style>\n",
              "<table border=\"1\" class=\"dataframe\">\n",
              "  <thead>\n",
              "    <tr style=\"text-align: right;\">\n",
              "      <th></th>\n",
              "      <th>nombre</th>\n",
              "      <th>rut</th>\n",
              "      <th>genero</th>\n",
              "      <th>direccion</th>\n",
              "      <th>region</th>\n",
              "      <th>comuna</th>\n",
              "    </tr>\n",
              "  </thead>\n",
              "  <tbody>\n",
              "    <tr>\n",
              "      <th>0</th>\n",
              "      <td>A BERNAD CONSUELO TERESITA</td>\n",
              "      <td>14.520.314-7</td>\n",
              "      <td>MUJER</td>\n",
              "      <td>LOS JACINTOS 1960</td>\n",
              "      <td>1</td>\n",
              "      <td>IQUIQUE</td>\n",
              "    </tr>\n",
              "    <tr>\n",
              "      <th>1</th>\n",
              "      <td>AABY ARESTIZABAL JANETH PAMELA</td>\n",
              "      <td>8.896.601-5</td>\n",
              "      <td>MUJER</td>\n",
              "      <td>AV LA TIRANA 3549</td>\n",
              "      <td>1</td>\n",
              "      <td>IQUIQUE</td>\n",
              "    </tr>\n",
              "    <tr>\n",
              "      <th>2</th>\n",
              "      <td>AATWANI HEMLATA NIHALCHAND</td>\n",
              "      <td>21.920.429-9</td>\n",
              "      <td>MUJER</td>\n",
              "      <td>FRANCISCO BILBAO 3421 D 1604</td>\n",
              "      <td>1</td>\n",
              "      <td>IQUIQUE</td>\n",
              "    </tr>\n",
              "    <tr>\n",
              "      <th>3</th>\n",
              "      <td>ABAETY ARAPUCA RITA</td>\n",
              "      <td>24.769.580-K</td>\n",
              "      <td>MUJER</td>\n",
              "      <td>CESPEDES Y GONZALEZ 1802</td>\n",
              "      <td>1</td>\n",
              "      <td>IQUIQUE</td>\n",
              "    </tr>\n",
              "    <tr>\n",
              "      <th>4</th>\n",
              "      <td>ABALLAI ASTARGO MIGUEL ANGEL</td>\n",
              "      <td>9.402.572-9</td>\n",
              "      <td>VARON</td>\n",
              "      <td>MANUEL CASTRO RAMOS 2311</td>\n",
              "      <td>1</td>\n",
              "      <td>IQUIQUE</td>\n",
              "    </tr>\n",
              "  </tbody>\n",
              "</table>\n",
              "</div>\n",
              "      <button class=\"colab-df-convert\" onclick=\"convertToInteractive('df-56833eaf-3c74-47b0-b160-99dbf9c190f7')\"\n",
              "              title=\"Convert this dataframe to an interactive table.\"\n",
              "              style=\"display:none;\">\n",
              "        \n",
              "  <svg xmlns=\"http://www.w3.org/2000/svg\" height=\"24px\"viewBox=\"0 0 24 24\"\n",
              "       width=\"24px\">\n",
              "    <path d=\"M0 0h24v24H0V0z\" fill=\"none\"/>\n",
              "    <path d=\"M18.56 5.44l.94 2.06.94-2.06 2.06-.94-2.06-.94-.94-2.06-.94 2.06-2.06.94zm-11 1L8.5 8.5l.94-2.06 2.06-.94-2.06-.94L8.5 2.5l-.94 2.06-2.06.94zm10 10l.94 2.06.94-2.06 2.06-.94-2.06-.94-.94-2.06-.94 2.06-2.06.94z\"/><path d=\"M17.41 7.96l-1.37-1.37c-.4-.4-.92-.59-1.43-.59-.52 0-1.04.2-1.43.59L10.3 9.45l-7.72 7.72c-.78.78-.78 2.05 0 2.83L4 21.41c.39.39.9.59 1.41.59.51 0 1.02-.2 1.41-.59l7.78-7.78 2.81-2.81c.8-.78.8-2.07 0-2.86zM5.41 20L4 18.59l7.72-7.72 1.47 1.35L5.41 20z\"/>\n",
              "  </svg>\n",
              "      </button>\n",
              "      \n",
              "  <style>\n",
              "    .colab-df-container {\n",
              "      display:flex;\n",
              "      flex-wrap:wrap;\n",
              "      gap: 12px;\n",
              "    }\n",
              "\n",
              "    .colab-df-convert {\n",
              "      background-color: #E8F0FE;\n",
              "      border: none;\n",
              "      border-radius: 50%;\n",
              "      cursor: pointer;\n",
              "      display: none;\n",
              "      fill: #1967D2;\n",
              "      height: 32px;\n",
              "      padding: 0 0 0 0;\n",
              "      width: 32px;\n",
              "    }\n",
              "\n",
              "    .colab-df-convert:hover {\n",
              "      background-color: #E2EBFA;\n",
              "      box-shadow: 0px 1px 2px rgba(60, 64, 67, 0.3), 0px 1px 3px 1px rgba(60, 64, 67, 0.15);\n",
              "      fill: #174EA6;\n",
              "    }\n",
              "\n",
              "    [theme=dark] .colab-df-convert {\n",
              "      background-color: #3B4455;\n",
              "      fill: #D2E3FC;\n",
              "    }\n",
              "\n",
              "    [theme=dark] .colab-df-convert:hover {\n",
              "      background-color: #434B5C;\n",
              "      box-shadow: 0px 1px 3px 1px rgba(0, 0, 0, 0.15);\n",
              "      filter: drop-shadow(0px 1px 2px rgba(0, 0, 0, 0.3));\n",
              "      fill: #FFFFFF;\n",
              "    }\n",
              "  </style>\n",
              "\n",
              "      <script>\n",
              "        const buttonEl =\n",
              "          document.querySelector('#df-56833eaf-3c74-47b0-b160-99dbf9c190f7 button.colab-df-convert');\n",
              "        buttonEl.style.display =\n",
              "          google.colab.kernel.accessAllowed ? 'block' : 'none';\n",
              "\n",
              "        async function convertToInteractive(key) {\n",
              "          const element = document.querySelector('#df-56833eaf-3c74-47b0-b160-99dbf9c190f7');\n",
              "          const dataTable =\n",
              "            await google.colab.kernel.invokeFunction('convertToInteractive',\n",
              "                                                     [key], {});\n",
              "          if (!dataTable) return;\n",
              "\n",
              "          const docLinkHtml = 'Like what you see? Visit the ' +\n",
              "            '<a target=\"_blank\" href=https://colab.research.google.com/notebooks/data_table.ipynb>data table notebook</a>'\n",
              "            + ' to learn more about interactive tables.';\n",
              "          element.innerHTML = '';\n",
              "          dataTable['output_type'] = 'display_data';\n",
              "          await google.colab.output.renderOutput(dataTable, element);\n",
              "          const docLink = document.createElement('div');\n",
              "          docLink.innerHTML = docLinkHtml;\n",
              "          element.appendChild(docLink);\n",
              "        }\n",
              "      </script>\n",
              "    </div>\n",
              "  </div>\n",
              "  "
            ],
            "text/plain": [
              "                           nombre           rut  ... region   comuna\n",
              "0      A BERNAD CONSUELO TERESITA  14.520.314-7  ...      1  IQUIQUE\n",
              "1  AABY ARESTIZABAL JANETH PAMELA   8.896.601-5  ...      1  IQUIQUE\n",
              "2      AATWANI HEMLATA NIHALCHAND  21.920.429-9  ...      1  IQUIQUE\n",
              "3             ABAETY ARAPUCA RITA  24.769.580-K  ...      1  IQUIQUE\n",
              "4    ABALLAI ASTARGO MIGUEL ANGEL   9.402.572-9  ...      1  IQUIQUE\n",
              "\n",
              "[5 rows x 6 columns]"
            ]
          },
          "metadata": {},
          "execution_count": 3
        }
      ]
    },
    {
      "cell_type": "code",
      "source": [
        "itu = pdf[pdf.nombre.str.contains('ITURRIAGA')]\n",
        "len(itu)"
      ],
      "metadata": {
        "colab": {
          "base_uri": "https://localhost:8080/"
        },
        "id": "rck7ikw-nvEP",
        "outputId": "8ccba893-f62b-441a-ec5f-978bf743cc82"
      },
      "execution_count": 4,
      "outputs": [
        {
          "output_type": "execute_result",
          "data": {
            "text/plain": [
              "5976"
            ]
          },
          "metadata": {},
          "execution_count": 4
        }
      ]
    },
    {
      "cell_type": "code",
      "source": [
        "itu.comuna.value_counts()"
      ],
      "metadata": {
        "colab": {
          "base_uri": "https://localhost:8080/"
        },
        "id": "h8hxYsY4n0Wl",
        "outputId": "bb330c78-2ee2-4e5a-b218-7734da97720b"
      },
      "execution_count": 5,
      "outputs": [
        {
          "output_type": "execute_result",
          "data": {
            "text/plain": [
              "CURICO          477\n",
              "TENO            293\n",
              "SAN BERNARDO    201\n",
              "MAIPU           192\n",
              "BUIN            186\n",
              "               ... \n",
              "QUILLECO          1\n",
              "MULCHEN           1\n",
              "LAJA              1\n",
              "LOS ALAMOS        1\n",
              "SAN NICOLAS       1\n",
              "Name: comuna, Length: 244, dtype: int64"
            ]
          },
          "metadata": {},
          "execution_count": 5
        }
      ]
    },
    {
      "cell_type": "code",
      "source": [
        "itu[itu.nombre.str.contains('ORTUZAR')]"
      ],
      "metadata": {
        "colab": {
          "base_uri": "https://localhost:8080/",
          "height": 143
        },
        "id": "AiX4hb1An15Z",
        "outputId": "de36f575-4fa4-487a-c711-24900345e328"
      },
      "execution_count": 7,
      "outputs": [
        {
          "output_type": "execute_result",
          "data": {
            "text/html": [
              "\n",
              "  <div id=\"df-700b2d17-3213-44f5-ad91-0ad69e667007\">\n",
              "    <div class=\"colab-df-container\">\n",
              "      <div>\n",
              "<style scoped>\n",
              "    .dataframe tbody tr th:only-of-type {\n",
              "        vertical-align: middle;\n",
              "    }\n",
              "\n",
              "    .dataframe tbody tr th {\n",
              "        vertical-align: top;\n",
              "    }\n",
              "\n",
              "    .dataframe thead th {\n",
              "        text-align: right;\n",
              "    }\n",
              "</style>\n",
              "<table border=\"1\" class=\"dataframe\">\n",
              "  <thead>\n",
              "    <tr style=\"text-align: right;\">\n",
              "      <th></th>\n",
              "      <th>nombre</th>\n",
              "      <th>rut</th>\n",
              "      <th>genero</th>\n",
              "      <th>direccion</th>\n",
              "      <th>region</th>\n",
              "      <th>comuna</th>\n",
              "    </tr>\n",
              "  </thead>\n",
              "  <tbody>\n",
              "    <tr>\n",
              "      <th>9836086</th>\n",
              "      <td>ITURRIAGA ORTUZAR GONZALO HERNAN</td>\n",
              "      <td>6.698.826-0</td>\n",
              "      <td>VARON</td>\n",
              "      <td>MEDINACELLI 1121</td>\n",
              "      <td>13</td>\n",
              "      <td>LAS CONDES</td>\n",
              "    </tr>\n",
              "    <tr>\n",
              "      <th>9836087</th>\n",
              "      <td>ITURRIAGA ORTUZAR JUAN PABLO</td>\n",
              "      <td>7.014.263-5</td>\n",
              "      <td>VARON</td>\n",
              "      <td>MEDINACELLI 1121</td>\n",
              "      <td>13</td>\n",
              "      <td>LAS CONDES</td>\n",
              "    </tr>\n",
              "    <tr>\n",
              "      <th>12782972</th>\n",
              "      <td>ITURRIAGA ORTUZAR SEBASTIAN</td>\n",
              "      <td>13.436.311-8</td>\n",
              "      <td>VARON</td>\n",
              "      <td>AVENIDA CHAMISERO 13178 12 CHAMISERO</td>\n",
              "      <td>13</td>\n",
              "      <td>COLINA</td>\n",
              "    </tr>\n",
              "  </tbody>\n",
              "</table>\n",
              "</div>\n",
              "      <button class=\"colab-df-convert\" onclick=\"convertToInteractive('df-700b2d17-3213-44f5-ad91-0ad69e667007')\"\n",
              "              title=\"Convert this dataframe to an interactive table.\"\n",
              "              style=\"display:none;\">\n",
              "        \n",
              "  <svg xmlns=\"http://www.w3.org/2000/svg\" height=\"24px\"viewBox=\"0 0 24 24\"\n",
              "       width=\"24px\">\n",
              "    <path d=\"M0 0h24v24H0V0z\" fill=\"none\"/>\n",
              "    <path d=\"M18.56 5.44l.94 2.06.94-2.06 2.06-.94-2.06-.94-.94-2.06-.94 2.06-2.06.94zm-11 1L8.5 8.5l.94-2.06 2.06-.94-2.06-.94L8.5 2.5l-.94 2.06-2.06.94zm10 10l.94 2.06.94-2.06 2.06-.94-2.06-.94-.94-2.06-.94 2.06-2.06.94z\"/><path d=\"M17.41 7.96l-1.37-1.37c-.4-.4-.92-.59-1.43-.59-.52 0-1.04.2-1.43.59L10.3 9.45l-7.72 7.72c-.78.78-.78 2.05 0 2.83L4 21.41c.39.39.9.59 1.41.59.51 0 1.02-.2 1.41-.59l7.78-7.78 2.81-2.81c.8-.78.8-2.07 0-2.86zM5.41 20L4 18.59l7.72-7.72 1.47 1.35L5.41 20z\"/>\n",
              "  </svg>\n",
              "      </button>\n",
              "      \n",
              "  <style>\n",
              "    .colab-df-container {\n",
              "      display:flex;\n",
              "      flex-wrap:wrap;\n",
              "      gap: 12px;\n",
              "    }\n",
              "\n",
              "    .colab-df-convert {\n",
              "      background-color: #E8F0FE;\n",
              "      border: none;\n",
              "      border-radius: 50%;\n",
              "      cursor: pointer;\n",
              "      display: none;\n",
              "      fill: #1967D2;\n",
              "      height: 32px;\n",
              "      padding: 0 0 0 0;\n",
              "      width: 32px;\n",
              "    }\n",
              "\n",
              "    .colab-df-convert:hover {\n",
              "      background-color: #E2EBFA;\n",
              "      box-shadow: 0px 1px 2px rgba(60, 64, 67, 0.3), 0px 1px 3px 1px rgba(60, 64, 67, 0.15);\n",
              "      fill: #174EA6;\n",
              "    }\n",
              "\n",
              "    [theme=dark] .colab-df-convert {\n",
              "      background-color: #3B4455;\n",
              "      fill: #D2E3FC;\n",
              "    }\n",
              "\n",
              "    [theme=dark] .colab-df-convert:hover {\n",
              "      background-color: #434B5C;\n",
              "      box-shadow: 0px 1px 3px 1px rgba(0, 0, 0, 0.15);\n",
              "      filter: drop-shadow(0px 1px 2px rgba(0, 0, 0, 0.3));\n",
              "      fill: #FFFFFF;\n",
              "    }\n",
              "  </style>\n",
              "\n",
              "      <script>\n",
              "        const buttonEl =\n",
              "          document.querySelector('#df-700b2d17-3213-44f5-ad91-0ad69e667007 button.colab-df-convert');\n",
              "        buttonEl.style.display =\n",
              "          google.colab.kernel.accessAllowed ? 'block' : 'none';\n",
              "\n",
              "        async function convertToInteractive(key) {\n",
              "          const element = document.querySelector('#df-700b2d17-3213-44f5-ad91-0ad69e667007');\n",
              "          const dataTable =\n",
              "            await google.colab.kernel.invokeFunction('convertToInteractive',\n",
              "                                                     [key], {});\n",
              "          if (!dataTable) return;\n",
              "\n",
              "          const docLinkHtml = 'Like what you see? Visit the ' +\n",
              "            '<a target=\"_blank\" href=https://colab.research.google.com/notebooks/data_table.ipynb>data table notebook</a>'\n",
              "            + ' to learn more about interactive tables.';\n",
              "          element.innerHTML = '';\n",
              "          dataTable['output_type'] = 'display_data';\n",
              "          await google.colab.output.renderOutput(dataTable, element);\n",
              "          const docLink = document.createElement('div');\n",
              "          docLink.innerHTML = docLinkHtml;\n",
              "          element.appendChild(docLink);\n",
              "        }\n",
              "      </script>\n",
              "    </div>\n",
              "  </div>\n",
              "  "
            ],
            "text/plain": [
              "                                    nombre           rut  ... region      comuna\n",
              "9836086   ITURRIAGA ORTUZAR GONZALO HERNAN   6.698.826-0  ...     13  LAS CONDES\n",
              "9836087       ITURRIAGA ORTUZAR JUAN PABLO   7.014.263-5  ...     13  LAS CONDES\n",
              "12782972       ITURRIAGA ORTUZAR SEBASTIAN  13.436.311-8  ...     13      COLINA\n",
              "\n",
              "[3 rows x 6 columns]"
            ]
          },
          "metadata": {},
          "execution_count": 7
        }
      ]
    },
    {
      "cell_type": "code",
      "source": [
        "# splitsville\n",
        "for regcom, rcdf in pdf.groupby(['region','comuna']):\n",
        "  #print(regcom, len(rcdf))\n",
        "  reg, com = regcom\n",
        "  reg = '%02d' %reg\n",
        "  rfn = f'R{reg}_C{com}.pq'\n",
        "  rcdf.to_parquet(rfn, index=False)\n",
        "  if 'SAN' in com:\n",
        "    print(regcom, len(rcdf))"
      ],
      "metadata": {
        "colab": {
          "base_uri": "https://localhost:8080/"
        },
        "id": "fv9dwy7-oAW-",
        "outputId": "bc0e8f4c-a5e7-42cc-d5e1-b2465bfd796d"
      },
      "execution_count": 13,
      "outputs": [
        {
          "output_type": "stream",
          "name": "stdout",
          "text": [
            "(2, 'SAN PEDRO DE ATACAMA') 6718\n",
            "(5, 'SAN ANTONIO') 78146\n",
            "(5, 'SAN ESTEBAN') 14795\n",
            "(5, 'SAN FELIPE') 59722\n",
            "(5, 'SANTA MARIA') 11856\n",
            "(5, 'SANTO DOMINGO') 10784\n",
            "(6, 'SAN FERNANDO') 62452\n",
            "(6, 'SAN VICENTE') 40151\n",
            "(6, 'SANTA CRUZ') 30911\n",
            "(7, 'SAN CLEMENTE') 36534\n",
            "(7, 'SAN JAVIER') 38701\n",
            "(7, 'SAN RAFAEL') 8242\n",
            "(8, 'SAN PEDRO DE LA PAZ') 86974\n",
            "(8, 'SAN ROSENDO') 4386\n",
            "(8, 'SANTA BARBARA') 13158\n",
            "(8, 'SANTA JUANA') 12537\n",
            "(10, 'SAN JUAN DE LA COSTA') 7837\n",
            "(10, 'SAN PABLO') 9820\n",
            "(12, 'SAN GREGORIO') 886\n",
            "(13, 'SAN BERNARDO') 226795\n",
            "(13, 'SAN JOAQUIN') 82967\n",
            "(13, 'SAN JOSE DE MAIPO') 15474\n",
            "(13, 'SAN MIGUEL') 103746\n",
            "(13, 'SAN PEDRO') 8184\n",
            "(13, 'SAN RAMON') 82197\n",
            "(13, 'SANTIAGO') 331401\n",
            "(16, 'SAN CARLOS') 47270\n",
            "(16, 'SAN FABIAN') 4758\n",
            "(16, 'SAN IGNACIO') 14354\n",
            "(16, 'SAN NICOLAS') 11370\n"
          ]
        }
      ]
    },
    {
      "cell_type": "code",
      "source": [
        "pdf.region.value_counts()"
      ],
      "metadata": {
        "colab": {
          "base_uri": "https://localhost:8080/"
        },
        "id": "cfTqIdKeo97A",
        "outputId": "958944b4-1a1e-4872-edca-13dd0135268c"
      },
      "execution_count": 10,
      "outputs": [
        {
          "output_type": "execute_result",
          "data": {
            "text/plain": [
              "13    5707250\n",
              "5     1575539\n",
              "8     1319625\n",
              "7      871133\n",
              "9      869370\n",
              "6      758105\n",
              "10     726202\n",
              "4      601442\n",
              "2      470418\n",
              "16     421523\n",
              "14     344870\n",
              "1      254078\n",
              "3      238864\n",
              "15     189798\n",
              "12     158627\n",
              "11      96577\n",
              "Name: region, dtype: int64"
            ]
          },
          "metadata": {},
          "execution_count": 10
        }
      ]
    },
    {
      "cell_type": "code",
      "source": [
        "pdf.info()"
      ],
      "metadata": {
        "colab": {
          "base_uri": "https://localhost:8080/"
        },
        "id": "wgO1QPEwpZHj",
        "outputId": "d573cbfb-da35-4485-cfc1-45ef1c1796d5"
      },
      "execution_count": 14,
      "outputs": [
        {
          "output_type": "stream",
          "name": "stdout",
          "text": [
            "<class 'pandas.core.frame.DataFrame'>\n",
            "RangeIndex: 14603421 entries, 0 to 14603420\n",
            "Data columns (total 6 columns):\n",
            " #   Column     Dtype \n",
            "---  ------     ----- \n",
            " 0   nombre     object\n",
            " 1   rut        object\n",
            " 2   genero     object\n",
            " 3   direccion  object\n",
            " 4   region     int64 \n",
            " 5   comuna     object\n",
            "dtypes: int64(1), object(5)\n",
            "memory usage: 668.5+ MB\n"
          ]
        }
      ]
    },
    {
      "cell_type": "code",
      "source": [
        "!du -hs *pq"
      ],
      "metadata": {
        "id": "7ilM_jwmqNH3"
      },
      "execution_count": null,
      "outputs": []
    },
    {
      "cell_type": "code",
      "source": [
        "import dask.dataframe as dd\n",
        "df = dd.read_parquet('*.pq')\n",
        "df"
      ],
      "metadata": {
        "colab": {
          "base_uri": "https://localhost:8080/",
          "height": 272
        },
        "id": "dg-ltTACqP27",
        "outputId": "9d3dd653-18b8-4d2f-a2c2-baf6117c4f28"
      },
      "execution_count": 17,
      "outputs": [
        {
          "output_type": "execute_result",
          "data": {
            "text/html": [
              "<div><strong>Dask DataFrame Structure:</strong></div>\n",
              "<div>\n",
              "<style scoped>\n",
              "    .dataframe tbody tr th:only-of-type {\n",
              "        vertical-align: middle;\n",
              "    }\n",
              "\n",
              "    .dataframe tbody tr th {\n",
              "        vertical-align: top;\n",
              "    }\n",
              "\n",
              "    .dataframe thead th {\n",
              "        text-align: right;\n",
              "    }\n",
              "</style>\n",
              "<table border=\"1\" class=\"dataframe\">\n",
              "  <thead>\n",
              "    <tr style=\"text-align: right;\">\n",
              "      <th></th>\n",
              "      <th>nombre</th>\n",
              "      <th>rut</th>\n",
              "      <th>genero</th>\n",
              "      <th>direccion</th>\n",
              "      <th>region</th>\n",
              "      <th>comuna</th>\n",
              "    </tr>\n",
              "    <tr>\n",
              "      <th>npartitions=345</th>\n",
              "      <th></th>\n",
              "      <th></th>\n",
              "      <th></th>\n",
              "      <th></th>\n",
              "      <th></th>\n",
              "      <th></th>\n",
              "    </tr>\n",
              "  </thead>\n",
              "  <tbody>\n",
              "    <tr>\n",
              "      <th></th>\n",
              "      <td>object</td>\n",
              "      <td>object</td>\n",
              "      <td>object</td>\n",
              "      <td>object</td>\n",
              "      <td>int64</td>\n",
              "      <td>object</td>\n",
              "    </tr>\n",
              "    <tr>\n",
              "      <th></th>\n",
              "      <td>...</td>\n",
              "      <td>...</td>\n",
              "      <td>...</td>\n",
              "      <td>...</td>\n",
              "      <td>...</td>\n",
              "      <td>...</td>\n",
              "    </tr>\n",
              "    <tr>\n",
              "      <th>...</th>\n",
              "      <td>...</td>\n",
              "      <td>...</td>\n",
              "      <td>...</td>\n",
              "      <td>...</td>\n",
              "      <td>...</td>\n",
              "      <td>...</td>\n",
              "    </tr>\n",
              "    <tr>\n",
              "      <th></th>\n",
              "      <td>...</td>\n",
              "      <td>...</td>\n",
              "      <td>...</td>\n",
              "      <td>...</td>\n",
              "      <td>...</td>\n",
              "      <td>...</td>\n",
              "    </tr>\n",
              "    <tr>\n",
              "      <th></th>\n",
              "      <td>...</td>\n",
              "      <td>...</td>\n",
              "      <td>...</td>\n",
              "      <td>...</td>\n",
              "      <td>...</td>\n",
              "      <td>...</td>\n",
              "    </tr>\n",
              "  </tbody>\n",
              "</table>\n",
              "</div>\n",
              "<div>Dask Name: read-parquet, 345 tasks</div>"
            ],
            "text/plain": [
              "Dask DataFrame Structure:\n",
              "                 nombre     rut  genero direccion region  comuna\n",
              "npartitions=345                                                 \n",
              "                 object  object  object    object  int64  object\n",
              "                    ...     ...     ...       ...    ...     ...\n",
              "...                 ...     ...     ...       ...    ...     ...\n",
              "                    ...     ...     ...       ...    ...     ...\n",
              "                    ...     ...     ...       ...    ...     ...\n",
              "Dask Name: read-parquet, 345 tasks"
            ]
          },
          "metadata": {},
          "execution_count": 17
        }
      ]
    },
    {
      "cell_type": "code",
      "source": [
        "import time\n",
        "t0=time.time()\n",
        "pad = df[df.nombre.str.contains('ITURRIAGA')].compute()\n",
        "print(len(pad), time.time()-t0)"
      ],
      "metadata": {
        "colab": {
          "base_uri": "https://localhost:8080/"
        },
        "id": "mI8yG-zesCJg",
        "outputId": "41f6a50d-473d-42c2-c495-e8e81cd332f3"
      },
      "execution_count": 18,
      "outputs": [
        {
          "output_type": "stream",
          "name": "stdout",
          "text": [
            "5976 44.31248712539673\n"
          ]
        }
      ]
    },
    {
      "cell_type": "code",
      "source": [
        "t0=time.time()\n",
        "padLu = pdf[pdf.nombre.str.contains('YAÑEZ')]\n",
        "print(len(padLu), time.time()-t0)"
      ],
      "metadata": {
        "colab": {
          "base_uri": "https://localhost:8080/"
        },
        "id": "DZ-WY1zssOiz",
        "outputId": "61f21f8b-223d-4b40-df0b-89787780230c"
      },
      "execution_count": 21,
      "outputs": [
        {
          "output_type": "stream",
          "name": "stdout",
          "text": [
            "78920 9.852583885192871\n"
          ]
        }
      ]
    },
    {
      "cell_type": "code",
      "source": [
        ""
      ],
      "metadata": {
        "id": "fkxDdeQytFVr"
      },
      "execution_count": null,
      "outputs": []
    }
  ]
}