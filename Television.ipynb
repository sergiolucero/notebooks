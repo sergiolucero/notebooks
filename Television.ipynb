{
  "nbformat": 4,
  "nbformat_minor": 0,
  "metadata": {
    "colab": {
      "name": "Television.ipynb",
      "provenance": [],
      "authorship_tag": "ABX9TyN97o4gyfOuT7SNFFZUzEWw",
      "include_colab_link": true
    },
    "kernelspec": {
      "name": "python3",
      "display_name": "Python 3"
    },
    "language_info": {
      "name": "python"
    }
  },
  "cells": [
    {
      "cell_type": "markdown",
      "metadata": {
        "id": "view-in-github",
        "colab_type": "text"
      },
      "source": [
        "<a href=\"https://colab.research.google.com/github/sergiolucero/notebooks/blob/main/Television.ipynb\" target=\"_parent\"><img src=\"https://colab.research.google.com/assets/colab-badge.svg\" alt=\"Open In Colab\"/></a>"
      ]
    },
    {
      "cell_type": "code",
      "execution_count": 6,
      "metadata": {
        "colab": {
          "base_uri": "https://localhost:8080/"
        },
        "id": "o6SbsIIBuBhp",
        "outputId": "ae1acf63-a0ab-4420-f978-7455f1c84506"
      },
      "outputs": [
        {
          "output_type": "stream",
          "name": "stdout",
          "text": [
            "['/cl/programacion', '/cl/programacion', '/cl/programacion', '/cl/perfil/seleccionar-canales', '/cl/buscar', '/cl/canales/canal-13-c/2022-03-03', '/cl/canales/canal-13-c/2022-03-04', '/cl/canales/canal-13-c/2022-03-05', '/cl/canales/canal-13-c/ayer', '/cl/canales/canal-13-c', '/cl/sitemap', '/cl/programacion']\n"
          ]
        }
      ],
      "source": [
        "## TV Scraping: 0. mitv.cl   1. 13tv   2. Vid2AWS\n",
        "import requests\n",
        "from bs4 import BeautifulSoup\n",
        "url = 'https://mi.tv/cl/canales/canal-13-c/2022-03-05'\n",
        "bs = BeautifulSoup(requests.get(url).text, 'lxml')\n",
        "links = [link['href'] for link in bs.find_all('a') if 'cl' in link.get('href','')]\n",
        "print(links)"
      ]
    },
    {
      "cell_type": "code",
      "source": [
        "bs = BeautifulSoup(requests.get(url).text, 'lxml')\n",
        "divs = bs.find_all('div', attrs={'id': 'listings'})\n",
        "#x=bs.find('ul', attrs={'class': 'broadcasts time24'})\n",
        "#x\n",
        "divs"
      ],
      "metadata": {
        "colab": {
          "base_uri": "https://localhost:8080/"
        },
        "id": "UXYDOiSHvEJH",
        "outputId": "c14186c0-f40c-4912-96fd-8e9d31a69b6e"
      },
      "execution_count": 18,
      "outputs": [
        {
          "output_type": "execute_result",
          "data": {
            "text/plain": [
              "[]"
            ]
          },
          "metadata": {},
          "execution_count": 18
        }
      ]
    },
    {
      "cell_type": "code",
      "source": [
        "bs.find_all('ul')"
      ],
      "metadata": {
        "colab": {
          "base_uri": "https://localhost:8080/"
        },
        "id": "LKYlj78JuvH8",
        "outputId": "a74cedc3-9ff0-4c57-9dd7-93c6edd603e5"
      },
      "execution_count": 14,
      "outputs": [
        {
          "output_type": "execute_result",
          "data": {
            "text/plain": [
              "[<ul class=\"main-options\">\n",
              " <li><a href=\"/cl/programacion\"><span class=\"guide\">Programación</span></a></li>\n",
              " <li>\n",
              " <a href=\"/cl/perfil/seleccionar-canales\"><span class=\"profile\">Mi perfil</span></a>\n",
              " </li>\n",
              " <li class=\"search \"><a href=\"/cl/buscar\"><span class=\"search\">Buscar</span></a></li>\n",
              " </ul>, <ul class=\"date-selection-bar\">\n",
              " <li class=\"option \">\n",
              " <a href=\"/cl/canales/canal-13-c/2022-03-03\">2022-03-03</a>\n",
              " </li>\n",
              " <li class=\"option mobile\">\n",
              " <a href=\"/cl/canales/canal-13-c/2022-03-04\">2022-03-04</a>\n",
              " </li>\n",
              " <li class=\"option selected mobile\">\n",
              " <a href=\"/cl/canales/canal-13-c/2022-03-05\">2022-03-05</a>\n",
              " </li>\n",
              " <li class=\"option mobile\">\n",
              " <a href=\"/cl/canales/canal-13-c/ayer\">Ayer</a>\n",
              " </li>\n",
              " <li class=\"option \">\n",
              " <a href=\"/cl/canales/canal-13-c\">Hoy</a>\n",
              " </li>\n",
              " </ul>, <ul>\n",
              " <li><a href=\"/es/acerca-de\">Acerca de mi.tv</a></li>\n",
              " <li><a href=\"/es/blog\">Blog</a></li>\n",
              " <li><a href=\"/es/prensa\">Prensa</a></li>\n",
              " <li><a href=\"/es/paute\">Paute con nosotros</a></li>\n",
              " <li><a href=\"/es/terminos\">Términos de uso</a></li>\n",
              " <li><a href=\"/cl/sitemap\">Sitemap</a></li>\n",
              " </ul>, <ul class=\"contact-icons\">\n",
              " <li><a href=\"https://www.facebook.com/mi.tv.Chile\" rel=\"noopener\" target=\"_blank\"><img height=\"40\" src=\"/images/icons/ic_facebook.png\" width=\"40\"/></a></li>\n",
              " <li><a href=\"https://twitter.com/mitv_pe\" rel=\"noopener\" target=\"_blank\"><img height=\"40\" src=\"/images/icons/ic_twitter.png\" width=\"40\"/></a></li>\n",
              " </ul>, <ul class=\"countries\" id=\"country-selection\">\n",
              " <li class=\"ar\"><a data-country=\"ar\" href=\"/ar/programacion\">Programación de TV en Argentina</a></li>\n",
              " <li class=\"br\"><a data-country=\"br\" href=\"/br/programacao\">Programação da Televisão no Brasil</a></li>\n",
              " <li class=\"cl\"><a data-country=\"cl\" href=\"/cl/programacion\">Programación de TV en Chile</a></li>\n",
              " <li class=\"co\"><a data-country=\"co\" href=\"/co/programacion\">Programación de TV en Colombia</a></li>\n",
              " <li class=\"sv\"><a data-country=\"sv\" href=\"/sv/programacion\">Programación de TV en El Salvador</a></li>\n",
              " <li class=\"gt\"><a data-country=\"gt\" href=\"/gt/programacion\">Programación de TV en Guatemala</a></li>\n",
              " <li class=\"hn\"><a data-country=\"hn\" href=\"/hn/programacion\">Programación de TV en Honduras</a></li>\n",
              " <li class=\"mx\"><a data-country=\"mx\" href=\"/mx/programacion\">Programación de TV en México</a></li>\n",
              " <li class=\"py\"><a data-country=\"py\" href=\"/py/programacion\">Programación de TV en Paraguay</a></li>\n",
              " <li class=\"pe\"><a data-country=\"pe\" href=\"/pe/programacion\">Programación de TV en Perú</a></li>\n",
              " </ul>, <ul>\n",
              " <li><a href=\"/en/about\">About us</a></li>\n",
              " <li><a href=\"/en/press\">Press</a></li>\n",
              " <li><a href=\"/en/advertise\">Advertise</a></li>\n",
              " <li><a href=\"/en/contact\">Contact us</a></li>\n",
              " </ul>]"
            ]
          },
          "metadata": {},
          "execution_count": 14
        }
      ]
    },
    {
      "cell_type": "code",
      "source": [
        "## YouTube VidScrape\n",
        "!pip install youtube-dl"
      ],
      "metadata": {
        "colab": {
          "base_uri": "https://localhost:8080/"
        },
        "id": "wdPNL8vBvn7P",
        "outputId": "aa2b2973-ff62-42a4-ee77-0bacde6717b2"
      },
      "execution_count": 19,
      "outputs": [
        {
          "output_type": "stream",
          "name": "stdout",
          "text": [
            "Collecting youtube-dl\n",
            "  Downloading youtube_dl-2021.12.17-py2.py3-none-any.whl (1.9 MB)\n",
            "\u001b[K     |████████████████████████████████| 1.9 MB 3.9 MB/s \n",
            "\u001b[?25hInstalling collected packages: youtube-dl\n",
            "Successfully installed youtube-dl-2021.12.17\n"
          ]
        }
      ]
    },
    {
      "cell_type": "code",
      "source": [
        "import youtube_dl\n",
        "\n",
        "video_url = 'https://www.youtube.com/watch?v=LBpJCb7oouk'\n",
        "video_info = youtube_dl.YoutubeDL().extract_info(\n",
        "        url = video_url,download=False\n",
        "    )\n",
        "filename = f\"{video_info['title']}.mp3\"\n",
        "options={\n",
        "    'format':'bestaudio/best',\n",
        "    'keepvideo':False,\n",
        "    'outtmpl':filename,\n",
        "}\n",
        "\n",
        "with youtube_dl.YoutubeDL(options) as ydl:\n",
        "    ydl.download([video_info['webpage_url']])\n"
      ],
      "metadata": {
        "colab": {
          "base_uri": "https://localhost:8080/"
        },
        "id": "f6722evzxWlr",
        "outputId": "cd254d3b-1a65-4c62-dbff-46dd4b4bf7c7"
      },
      "execution_count": 21,
      "outputs": [
        {
          "output_type": "stream",
          "name": "stdout",
          "text": [
            "[youtube] LBpJCb7oouk: Downloading webpage\n",
            "[youtube] LBpJCb7oouk: Downloading webpage\n",
            "[download] Destination: Somos Caleta - Caleta Los Vilos, Canal 13..mp3\n",
            "[download] 100% of 43.42MiB in 14:18\n",
            "[ffmpeg] Correcting container in \"Somos Caleta - Caleta Los Vilos, Canal 13..mp3\"\n"
          ]
        }
      ]
    },
    {
      "cell_type": "code",
      "source": [
        ""
      ],
      "metadata": {
        "id": "KMploiCrxmqg"
      },
      "execution_count": null,
      "outputs": []
    },
    {
      "cell_type": "markdown",
      "source": [
        "## YouTube_MP3_to_AWS_Transcribe\n",
        "First test: Somos Caleta Los Vilos, 47'. MP3 file is 43Mb long."
      ],
      "metadata": {
        "id": "JB4slKRb0TGq"
      }
    },
    {
      "cell_type": "code",
      "source": [
        "!pip install boto3\n",
        "import boto3"
      ],
      "metadata": {
        "id": "N9dAUiyn1PYX"
      },
      "execution_count": null,
      "outputs": []
    },
    {
      "cell_type": "code",
      "source": [
        "# upload to s3 and transcribe!\n",
        "import boto3\n",
        "s3 = boto3.resource('s3')\n",
        "transcribe = boto3.client('transcribe')"
      ],
      "metadata": {
        "colab": {
          "base_uri": "https://localhost:8080/",
          "height": 542
        },
        "id": "BJ6dSrOG1RnR",
        "outputId": "17fbf665-b195-473c-c426-f32cfd5e8e4d"
      },
      "execution_count": 25,
      "outputs": [
        {
          "output_type": "error",
          "ename": "ImportError",
          "evalue": "ignored",
          "traceback": [
            "\u001b[0;31m---------------------------------------------------------------------------\u001b[0m",
            "\u001b[0;31mImportError\u001b[0m                               Traceback (most recent call last)",
            "\u001b[0;32m<ipython-input-25-9a7c73a8c336>\u001b[0m in \u001b[0;36m<module>\u001b[0;34m()\u001b[0m\n\u001b[1;32m      1\u001b[0m \u001b[0;31m# upload to s3 and transcribe!\u001b[0m\u001b[0;34m\u001b[0m\u001b[0;34m\u001b[0m\u001b[0;34m\u001b[0m\u001b[0m\n\u001b[0;32m----> 2\u001b[0;31m \u001b[0;32mimport\u001b[0m \u001b[0mboto3\u001b[0m\u001b[0;34m\u001b[0m\u001b[0;34m\u001b[0m\u001b[0m\n\u001b[0m\u001b[1;32m      3\u001b[0m \u001b[0ms3\u001b[0m \u001b[0;34m=\u001b[0m \u001b[0mboto3\u001b[0m\u001b[0;34m.\u001b[0m\u001b[0mresource\u001b[0m\u001b[0;34m(\u001b[0m\u001b[0;34m's3'\u001b[0m\u001b[0;34m)\u001b[0m\u001b[0;34m\u001b[0m\u001b[0;34m\u001b[0m\u001b[0m\n\u001b[1;32m      4\u001b[0m \u001b[0mtranscribe\u001b[0m \u001b[0;34m=\u001b[0m \u001b[0mboto3\u001b[0m\u001b[0;34m.\u001b[0m\u001b[0mclient\u001b[0m\u001b[0;34m(\u001b[0m\u001b[0;34m'transcribe'\u001b[0m\u001b[0;34m)\u001b[0m\u001b[0;34m\u001b[0m\u001b[0;34m\u001b[0m\u001b[0m\n",
            "\u001b[0;32m/usr/local/lib/python3.7/dist-packages/boto3/__init__.py\u001b[0m in \u001b[0;36m<module>\u001b[0;34m()\u001b[0m\n\u001b[1;32m     15\u001b[0m \u001b[0;34m\u001b[0m\u001b[0m\n\u001b[1;32m     16\u001b[0m \u001b[0;32mfrom\u001b[0m \u001b[0mboto3\u001b[0m\u001b[0;34m.\u001b[0m\u001b[0mcompat\u001b[0m \u001b[0;32mimport\u001b[0m \u001b[0m_warn_deprecated_python\u001b[0m\u001b[0;34m\u001b[0m\u001b[0;34m\u001b[0m\u001b[0m\n\u001b[0;32m---> 17\u001b[0;31m \u001b[0;32mfrom\u001b[0m \u001b[0mboto3\u001b[0m\u001b[0;34m.\u001b[0m\u001b[0msession\u001b[0m \u001b[0;32mimport\u001b[0m \u001b[0mSession\u001b[0m\u001b[0;34m\u001b[0m\u001b[0;34m\u001b[0m\u001b[0m\n\u001b[0m\u001b[1;32m     18\u001b[0m \u001b[0;34m\u001b[0m\u001b[0m\n\u001b[1;32m     19\u001b[0m \u001b[0m__author__\u001b[0m \u001b[0;34m=\u001b[0m \u001b[0;34m'Amazon Web Services'\u001b[0m\u001b[0;34m\u001b[0m\u001b[0;34m\u001b[0m\u001b[0m\n",
            "\u001b[0;32m/usr/local/lib/python3.7/dist-packages/boto3/session.py\u001b[0m in \u001b[0;36m<module>\u001b[0;34m()\u001b[0m\n\u001b[1;32m     15\u001b[0m \u001b[0;32mimport\u001b[0m \u001b[0mos\u001b[0m\u001b[0;34m\u001b[0m\u001b[0;34m\u001b[0m\u001b[0m\n\u001b[1;32m     16\u001b[0m \u001b[0;34m\u001b[0m\u001b[0m\n\u001b[0;32m---> 17\u001b[0;31m \u001b[0;32mimport\u001b[0m \u001b[0mbotocore\u001b[0m\u001b[0;34m.\u001b[0m\u001b[0msession\u001b[0m\u001b[0;34m\u001b[0m\u001b[0;34m\u001b[0m\u001b[0m\n\u001b[0m\u001b[1;32m     18\u001b[0m \u001b[0;32mfrom\u001b[0m \u001b[0mbotocore\u001b[0m\u001b[0;34m.\u001b[0m\u001b[0mclient\u001b[0m \u001b[0;32mimport\u001b[0m \u001b[0mConfig\u001b[0m\u001b[0;34m\u001b[0m\u001b[0;34m\u001b[0m\u001b[0m\n\u001b[1;32m     19\u001b[0m \u001b[0;32mfrom\u001b[0m \u001b[0mbotocore\u001b[0m\u001b[0;34m.\u001b[0m\u001b[0mexceptions\u001b[0m \u001b[0;32mimport\u001b[0m \u001b[0mDataNotFoundError\u001b[0m\u001b[0;34m,\u001b[0m \u001b[0mUnknownServiceError\u001b[0m\u001b[0;34m\u001b[0m\u001b[0;34m\u001b[0m\u001b[0m\n",
            "\u001b[0;32m/usr/local/lib/python3.7/dist-packages/botocore/session.py\u001b[0m in \u001b[0;36m<module>\u001b[0;34m()\u001b[0m\n\u001b[1;32m     27\u001b[0m \u001b[0;32mfrom\u001b[0m \u001b[0mbotocore\u001b[0m \u001b[0;32mimport\u001b[0m \u001b[0mUNSIGNED\u001b[0m\u001b[0;34m\u001b[0m\u001b[0;34m\u001b[0m\u001b[0m\n\u001b[1;32m     28\u001b[0m \u001b[0;32mimport\u001b[0m \u001b[0mbotocore\u001b[0m\u001b[0;34m.\u001b[0m\u001b[0mconfigloader\u001b[0m\u001b[0;34m\u001b[0m\u001b[0;34m\u001b[0m\u001b[0m\n\u001b[0;32m---> 29\u001b[0;31m \u001b[0;32mimport\u001b[0m \u001b[0mbotocore\u001b[0m\u001b[0;34m.\u001b[0m\u001b[0mcredentials\u001b[0m\u001b[0;34m\u001b[0m\u001b[0;34m\u001b[0m\u001b[0m\n\u001b[0m\u001b[1;32m     30\u001b[0m \u001b[0;32mimport\u001b[0m \u001b[0mbotocore\u001b[0m\u001b[0;34m.\u001b[0m\u001b[0mclient\u001b[0m\u001b[0;34m\u001b[0m\u001b[0;34m\u001b[0m\u001b[0m\n\u001b[1;32m     31\u001b[0m \u001b[0;32mfrom\u001b[0m \u001b[0mbotocore\u001b[0m\u001b[0;34m.\u001b[0m\u001b[0mconfigprovider\u001b[0m \u001b[0;32mimport\u001b[0m \u001b[0mConfigValueStore\u001b[0m\u001b[0;34m\u001b[0m\u001b[0;34m\u001b[0m\u001b[0m\n",
            "\u001b[0;32m/usr/local/lib/python3.7/dist-packages/botocore/credentials.py\u001b[0m in \u001b[0;36m<module>\u001b[0;34m()\u001b[0m\n\u001b[1;32m     33\u001b[0m \u001b[0;32mfrom\u001b[0m \u001b[0mbotocore\u001b[0m\u001b[0;34m.\u001b[0m\u001b[0mcompat\u001b[0m \u001b[0;32mimport\u001b[0m \u001b[0mtotal_seconds\u001b[0m\u001b[0;34m\u001b[0m\u001b[0;34m\u001b[0m\u001b[0m\n\u001b[1;32m     34\u001b[0m \u001b[0;32mfrom\u001b[0m \u001b[0mbotocore\u001b[0m\u001b[0;34m.\u001b[0m\u001b[0mcompat\u001b[0m \u001b[0;32mimport\u001b[0m \u001b[0mcompat_shell_split\u001b[0m\u001b[0;34m\u001b[0m\u001b[0;34m\u001b[0m\u001b[0m\n\u001b[0;32m---> 35\u001b[0;31m \u001b[0;32mfrom\u001b[0m \u001b[0mbotocore\u001b[0m\u001b[0;34m.\u001b[0m\u001b[0mconfig\u001b[0m \u001b[0;32mimport\u001b[0m \u001b[0mConfig\u001b[0m\u001b[0;34m\u001b[0m\u001b[0;34m\u001b[0m\u001b[0m\n\u001b[0m\u001b[1;32m     36\u001b[0m \u001b[0;32mfrom\u001b[0m \u001b[0mbotocore\u001b[0m\u001b[0;34m.\u001b[0m\u001b[0mexceptions\u001b[0m \u001b[0;32mimport\u001b[0m \u001b[0mUnknownCredentialError\u001b[0m\u001b[0;34m\u001b[0m\u001b[0;34m\u001b[0m\u001b[0m\n\u001b[1;32m     37\u001b[0m \u001b[0;32mfrom\u001b[0m \u001b[0mbotocore\u001b[0m\u001b[0;34m.\u001b[0m\u001b[0mexceptions\u001b[0m \u001b[0;32mimport\u001b[0m \u001b[0mPartialCredentialsError\u001b[0m\u001b[0;34m\u001b[0m\u001b[0;34m\u001b[0m\u001b[0m\n",
            "\u001b[0;32m/usr/local/lib/python3.7/dist-packages/botocore/config.py\u001b[0m in \u001b[0;36m<module>\u001b[0;34m()\u001b[0m\n\u001b[1;32m     14\u001b[0m \u001b[0;32mfrom\u001b[0m \u001b[0mbotocore\u001b[0m\u001b[0;34m.\u001b[0m\u001b[0mcompat\u001b[0m \u001b[0;32mimport\u001b[0m \u001b[0mOrderedDict\u001b[0m\u001b[0;34m\u001b[0m\u001b[0;34m\u001b[0m\u001b[0m\n\u001b[1;32m     15\u001b[0m \u001b[0;34m\u001b[0m\u001b[0m\n\u001b[0;32m---> 16\u001b[0;31m \u001b[0;32mfrom\u001b[0m \u001b[0mbotocore\u001b[0m\u001b[0;34m.\u001b[0m\u001b[0mendpoint\u001b[0m \u001b[0;32mimport\u001b[0m \u001b[0mDEFAULT_TIMEOUT\u001b[0m\u001b[0;34m,\u001b[0m \u001b[0mMAX_POOL_CONNECTIONS\u001b[0m\u001b[0;34m\u001b[0m\u001b[0;34m\u001b[0m\u001b[0m\n\u001b[0m\u001b[1;32m     17\u001b[0m \u001b[0;32mfrom\u001b[0m \u001b[0mbotocore\u001b[0m\u001b[0;34m.\u001b[0m\u001b[0mexceptions\u001b[0m \u001b[0;32mimport\u001b[0m \u001b[0mInvalidS3AddressingStyleError\u001b[0m\u001b[0;34m\u001b[0m\u001b[0;34m\u001b[0m\u001b[0m\n\u001b[1;32m     18\u001b[0m \u001b[0;32mfrom\u001b[0m \u001b[0mbotocore\u001b[0m\u001b[0;34m.\u001b[0m\u001b[0mexceptions\u001b[0m \u001b[0;32mimport\u001b[0m \u001b[0mInvalidRetryConfigurationError\u001b[0m\u001b[0;34m\u001b[0m\u001b[0;34m\u001b[0m\u001b[0m\n",
            "\u001b[0;32m/usr/local/lib/python3.7/dist-packages/botocore/endpoint.py\u001b[0m in \u001b[0;36m<module>\u001b[0;34m()\u001b[0m\n\u001b[1;32m     22\u001b[0m \u001b[0;32mfrom\u001b[0m \u001b[0mbotocore\u001b[0m\u001b[0;34m.\u001b[0m\u001b[0mvendored\u001b[0m \u001b[0;32mimport\u001b[0m \u001b[0msix\u001b[0m\u001b[0;34m\u001b[0m\u001b[0;34m\u001b[0m\u001b[0m\n\u001b[1;32m     23\u001b[0m \u001b[0;34m\u001b[0m\u001b[0m\n\u001b[0;32m---> 24\u001b[0;31m \u001b[0;32mfrom\u001b[0m \u001b[0mbotocore\u001b[0m\u001b[0;34m.\u001b[0m\u001b[0mawsrequest\u001b[0m \u001b[0;32mimport\u001b[0m \u001b[0mcreate_request_object\u001b[0m\u001b[0;34m\u001b[0m\u001b[0;34m\u001b[0m\u001b[0m\n\u001b[0m\u001b[1;32m     25\u001b[0m \u001b[0;32mfrom\u001b[0m \u001b[0mbotocore\u001b[0m\u001b[0;34m.\u001b[0m\u001b[0mexceptions\u001b[0m \u001b[0;32mimport\u001b[0m \u001b[0mHTTPClientError\u001b[0m\u001b[0;34m\u001b[0m\u001b[0;34m\u001b[0m\u001b[0m\n\u001b[1;32m     26\u001b[0m \u001b[0;32mfrom\u001b[0m \u001b[0mbotocore\u001b[0m\u001b[0;34m.\u001b[0m\u001b[0mhttpsession\u001b[0m \u001b[0;32mimport\u001b[0m \u001b[0mURLLib3Session\u001b[0m\u001b[0;34m\u001b[0m\u001b[0;34m\u001b[0m\u001b[0m\n",
            "\u001b[0;32m/usr/local/lib/python3.7/dist-packages/botocore/awsrequest.py\u001b[0m in \u001b[0;36m<module>\u001b[0;34m()\u001b[0m\n\u001b[1;32m     21\u001b[0m \u001b[0;32mfrom\u001b[0m \u001b[0murllib3\u001b[0m\u001b[0;34m.\u001b[0m\u001b[0mconnectionpool\u001b[0m \u001b[0;32mimport\u001b[0m \u001b[0mHTTPSConnectionPool\u001b[0m\u001b[0;34m\u001b[0m\u001b[0;34m\u001b[0m\u001b[0m\n\u001b[1;32m     22\u001b[0m \u001b[0;34m\u001b[0m\u001b[0m\n\u001b[0;32m---> 23\u001b[0;31m \u001b[0;32mimport\u001b[0m \u001b[0mbotocore\u001b[0m\u001b[0;34m.\u001b[0m\u001b[0mutils\u001b[0m\u001b[0;34m\u001b[0m\u001b[0;34m\u001b[0m\u001b[0m\n\u001b[0m\u001b[1;32m     24\u001b[0m \u001b[0;32mfrom\u001b[0m \u001b[0mbotocore\u001b[0m\u001b[0;34m.\u001b[0m\u001b[0mcompat\u001b[0m \u001b[0;32mimport\u001b[0m \u001b[0msix\u001b[0m\u001b[0;34m\u001b[0m\u001b[0;34m\u001b[0m\u001b[0m\n\u001b[1;32m     25\u001b[0m from botocore.compat import (\n",
            "\u001b[0;32m/usr/local/lib/python3.7/dist-packages/botocore/utils.py\u001b[0m in \u001b[0;36m<module>\u001b[0;34m()\u001b[0m\n\u001b[1;32m     31\u001b[0m \u001b[0;32mimport\u001b[0m \u001b[0mbotocore\u001b[0m\u001b[0;34m\u001b[0m\u001b[0;34m\u001b[0m\u001b[0m\n\u001b[1;32m     32\u001b[0m \u001b[0;32mimport\u001b[0m \u001b[0mbotocore\u001b[0m\u001b[0;34m.\u001b[0m\u001b[0mawsrequest\u001b[0m\u001b[0;34m\u001b[0m\u001b[0;34m\u001b[0m\u001b[0m\n\u001b[0;32m---> 33\u001b[0;31m \u001b[0;32mimport\u001b[0m \u001b[0mbotocore\u001b[0m\u001b[0;34m.\u001b[0m\u001b[0mhttpsession\u001b[0m\u001b[0;34m\u001b[0m\u001b[0;34m\u001b[0m\u001b[0m\n\u001b[0m\u001b[1;32m     34\u001b[0m from botocore.compat import (\n\u001b[1;32m     35\u001b[0m     \u001b[0mjson\u001b[0m\u001b[0;34m,\u001b[0m \u001b[0mquote\u001b[0m\u001b[0;34m,\u001b[0m \u001b[0mzip_longest\u001b[0m\u001b[0;34m,\u001b[0m \u001b[0murlsplit\u001b[0m\u001b[0;34m,\u001b[0m \u001b[0murlunsplit\u001b[0m\u001b[0;34m,\u001b[0m \u001b[0mOrderedDict\u001b[0m\u001b[0;34m,\u001b[0m\u001b[0;34m\u001b[0m\u001b[0;34m\u001b[0m\u001b[0m\n",
            "\u001b[0;32m/usr/local/lib/python3.7/dist-packages/botocore/httpsession.py\u001b[0m in \u001b[0;36m<module>\u001b[0;34m()\u001b[0m\n\u001b[1;32m      8\u001b[0m \u001b[0;32mfrom\u001b[0m \u001b[0murllib3\u001b[0m \u001b[0;32mimport\u001b[0m \u001b[0mPoolManager\u001b[0m\u001b[0;34m,\u001b[0m \u001b[0mproxy_from_url\u001b[0m\u001b[0;34m,\u001b[0m \u001b[0mTimeout\u001b[0m\u001b[0;34m\u001b[0m\u001b[0;34m\u001b[0m\u001b[0m\n\u001b[1;32m      9\u001b[0m \u001b[0;32mfrom\u001b[0m \u001b[0murllib3\u001b[0m\u001b[0;34m.\u001b[0m\u001b[0mutil\u001b[0m\u001b[0;34m.\u001b[0m\u001b[0mretry\u001b[0m \u001b[0;32mimport\u001b[0m \u001b[0mRetry\u001b[0m\u001b[0;34m\u001b[0m\u001b[0;34m\u001b[0m\u001b[0m\n\u001b[0;32m---> 10\u001b[0;31m from urllib3.util.ssl_ import (\n\u001b[0m\u001b[1;32m     11\u001b[0m     \u001b[0mssl\u001b[0m\u001b[0;34m,\u001b[0m \u001b[0mOP_NO_SSLv2\u001b[0m\u001b[0;34m,\u001b[0m \u001b[0mOP_NO_SSLv3\u001b[0m\u001b[0;34m,\u001b[0m \u001b[0mOP_NO_COMPRESSION\u001b[0m\u001b[0;34m,\u001b[0m\u001b[0;34m\u001b[0m\u001b[0;34m\u001b[0m\u001b[0m\n\u001b[1;32m     12\u001b[0m     \u001b[0mPROTOCOL_TLS\u001b[0m\u001b[0;34m,\u001b[0m \u001b[0mDEFAULT_CIPHERS\u001b[0m\u001b[0;34m,\u001b[0m\u001b[0;34m\u001b[0m\u001b[0;34m\u001b[0m\u001b[0m\n",
            "\u001b[0;31mImportError\u001b[0m: cannot import name 'PROTOCOL_TLS' from 'urllib3.util.ssl_' (/usr/local/lib/python3.7/dist-packages/urllib3/util/ssl_.py)",
            "",
            "\u001b[0;31m---------------------------------------------------------------------------\u001b[0;32m\nNOTE: If your import is failing due to a missing package, you can\nmanually install dependencies using either !pip or !apt.\n\nTo view examples of installing some common dependencies, click the\n\"Open Examples\" button below.\n\u001b[0;31m---------------------------------------------------------------------------\u001b[0m\n"
          ],
          "errorDetails": {
            "actions": [
              {
                "action": "open_url",
                "actionText": "Open Examples",
                "url": "/notebooks/snippets/importing_libraries.ipynb"
              }
            ]
          }
        }
      ]
    },
    {
      "cell_type": "code",
      "source": [
        "response = client.start_transcription_job(\n",
        "      TranscriptionJobName='string',\n",
        "      LanguageCode='en-US'|'es-US'|'en-AU'|'fr-CA'|'en-GB'|'de-DE'|'pt-BR'|'fr-FR'|'it-IT'|'ko-KR',\n",
        "      MediaSampleRateHertz=123,\n",
        "      MediaFormat='mp3'|'mp4'|'wav'|'flac',\n",
        "      Media={\n",
        "          'MediaFileUri': 'string'\n",
        "      },\n",
        "      OutputBucketName='string',\n",
        "      Settings={\n",
        "          'VocabularyName': 'string',\n",
        "          'ShowSpeakerLabels': True|False,\n",
        "          'MaxSpeakerLabels': 123,\n",
        "          'ChannelIdentification': True|False\n",
        "      }\n",
        "  )\n"
      ],
      "metadata": {
        "colab": {
          "base_uri": "https://localhost:8080/",
          "height": 263
        },
        "id": "4UvH7pWc4LZV",
        "outputId": "ff3523a8-e0d4-410f-ac48-c664caa7e8fc"
      },
      "execution_count": 26,
      "outputs": [
        {
          "output_type": "error",
          "ename": "NameError",
          "evalue": "ignored",
          "traceback": [
            "\u001b[0;31m---------------------------------------------------------------------------\u001b[0m",
            "\u001b[0;31mNameError\u001b[0m                                 Traceback (most recent call last)",
            "\u001b[0;32m<ipython-input-26-c35c6b60efd8>\u001b[0m in \u001b[0;36m<module>\u001b[0;34m()\u001b[0m\n\u001b[0;32m----> 1\u001b[0;31m response = client.start_transcription_job(\n\u001b[0m\u001b[1;32m      2\u001b[0m       \u001b[0mTranscriptionJobName\u001b[0m\u001b[0;34m=\u001b[0m\u001b[0;34m'string'\u001b[0m\u001b[0;34m,\u001b[0m\u001b[0;34m\u001b[0m\u001b[0;34m\u001b[0m\u001b[0m\n\u001b[1;32m      3\u001b[0m       \u001b[0mLanguageCode\u001b[0m\u001b[0;34m=\u001b[0m\u001b[0;34m'en-US'\u001b[0m\u001b[0;34m|\u001b[0m\u001b[0;34m'es-US'\u001b[0m\u001b[0;34m|\u001b[0m\u001b[0;34m'en-AU'\u001b[0m\u001b[0;34m|\u001b[0m\u001b[0;34m'fr-CA'\u001b[0m\u001b[0;34m|\u001b[0m\u001b[0;34m'en-GB'\u001b[0m\u001b[0;34m|\u001b[0m\u001b[0;34m'de-DE'\u001b[0m\u001b[0;34m|\u001b[0m\u001b[0;34m'pt-BR'\u001b[0m\u001b[0;34m|\u001b[0m\u001b[0;34m'fr-FR'\u001b[0m\u001b[0;34m|\u001b[0m\u001b[0;34m'it-IT'\u001b[0m\u001b[0;34m|\u001b[0m\u001b[0;34m'ko-KR'\u001b[0m\u001b[0;34m,\u001b[0m\u001b[0;34m\u001b[0m\u001b[0;34m\u001b[0m\u001b[0m\n\u001b[1;32m      4\u001b[0m       \u001b[0mMediaSampleRateHertz\u001b[0m\u001b[0;34m=\u001b[0m\u001b[0;36m123\u001b[0m\u001b[0;34m,\u001b[0m\u001b[0;34m\u001b[0m\u001b[0;34m\u001b[0m\u001b[0m\n\u001b[1;32m      5\u001b[0m       \u001b[0mMediaFormat\u001b[0m\u001b[0;34m=\u001b[0m\u001b[0;34m'mp3'\u001b[0m\u001b[0;34m|\u001b[0m\u001b[0;34m'mp4'\u001b[0m\u001b[0;34m|\u001b[0m\u001b[0;34m'wav'\u001b[0m\u001b[0;34m|\u001b[0m\u001b[0;34m'flac'\u001b[0m\u001b[0;34m,\u001b[0m\u001b[0;34m\u001b[0m\u001b[0;34m\u001b[0m\u001b[0m\n",
            "\u001b[0;31mNameError\u001b[0m: name 'client' is not defined"
          ]
        }
      ]
    },
    {
      "cell_type": "code",
      "source": [
        "trans = boto3.client('transcribe', region='us-east-2')\n",
        "\n",
        "resp=trans.start_transcription_job(LanguageCode='es-US',TranscriptionJobName='CaletaLosVilos2',\n",
        "                Media={'MediaFileUri':'https://quantcldata.s3.us-east-2.amazonaws.com/AUDIOS/CaletaLosVilos.mp3'},\n",
        "                MediaFormat='mp4')\n",
        "\n",
        "trans.list_transcription_jobs()"
      ],
      "metadata": {
        "id": "sMjqk8Of6r8s"
      },
      "execution_count": null,
      "outputs": []
    }
  ]
}