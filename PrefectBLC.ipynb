{
  "nbformat": 4,
  "nbformat_minor": 0,
  "metadata": {
    "colab": {
      "name": "PrefectBLC.ipynb",
      "provenance": [],
      "authorship_tag": "ABX9TyNMI7zmbirDnkNN38tK/BiA",
      "include_colab_link": true
    },
    "kernelspec": {
      "name": "python3",
      "display_name": "Python 3"
    },
    "language_info": {
      "name": "python"
    }
  },
  "cells": [
    {
      "cell_type": "markdown",
      "metadata": {
        "id": "view-in-github",
        "colab_type": "text"
      },
      "source": [
        "<a href=\"https://colab.research.google.com/github/sergiolucero/notebooks/blob/main/PrefectBLC.ipynb\" target=\"_parent\"><img src=\"https://colab.research.google.com/assets/colab-badge.svg\" alt=\"Open In Colab\"/></a>"
      ]
    },
    {
      "cell_type": "code",
      "execution_count": 1,
      "metadata": {
        "id": "V0S8prkxUu0d"
      },
      "outputs": [],
      "source": [
        "# 0. illustrate Prefect use on BLC pipeline\n",
        "# 1. create notebook Github repo + add above\n",
        "# 2. plan + extend"
      ]
    },
    {
      "cell_type": "code",
      "source": [
        "!pip install prefect s3fs\n",
        "import pandas as pd\n",
        "import prefect"
      ],
      "metadata": {
        "id": "l5pmK0SVU7Y4"
      },
      "execution_count": null,
      "outputs": []
    },
    {
      "cell_type": "code",
      "source": [
        "from prefect import Flow, task\n",
        "\n",
        "@task\n",
        "def extract_reference_data():\n",
        "    print(\"fetching reference data...\")\n",
        "    rdf= pd.read_csv('s3://quantcldata/BIKES/blc_reference.csv')\n",
        "    return rdf\n",
        "\n",
        "@task\n",
        "def extract_live_data():  #airport, radius, ref_data):\n",
        "    BLC_JSON_URL = 'https://www.bicilascondes.cl/availability_map/getJsonObject'\n",
        "    ldf = pd.read_json(BLC_JSON_URL)\n",
        "    return ldf\n",
        "@task \n",
        "def transform(live,ref):\n",
        "    transformed = []\n",
        "    for lx, rx in zip(live.iterrows(),ref.iterrows()):   # should JOIN\n",
        "        #print(lx[1])\n",
        "        ld, rd = lx[1]['bikes'],rx[1]['mean']\n",
        "        qd = ld/rd\n",
        "        transformed.append([ld,rd,qd])\n",
        "    transformed_data = pd.DataFrame(transformed, columns=['live','ref','fill'])\n",
        "    transformed_data.to_csv('tld.csv', index=False)\n",
        "\n",
        "with Flow(\"BLC-ETL\") as flow:\n",
        "    reference_data = extract_reference_data()\n",
        "    live_data = extract_live_data()\n",
        "    transform(live_data, reference_data)\n",
        "\n",
        "    #load_reference_data(reference_data)\n",
        "    #load_live_data(transformed_live_data)\n",
        "    flow.run()"
      ],
      "metadata": {
        "colab": {
          "base_uri": "https://localhost:8080/"
        },
        "id": "AB75oXN3VJeF",
        "outputId": "7d2b97e3-7a20-4dc0-a6e7-dd5b6ae1efcd"
      },
      "execution_count": 60,
      "outputs": [
        {
          "output_type": "stream",
          "name": "stdout",
          "text": [
            "[2022-03-02 16:22:40+0000] INFO - prefect.FlowRunner | Beginning Flow run for 'BLC-ETL'\n",
            "[2022-03-02 16:22:40+0000] INFO - prefect.TaskRunner | Task 'extract_reference_data': Starting task run...\n",
            "fetching reference data...\n",
            "[2022-03-02 16:22:40+0000] INFO - prefect.TaskRunner | Task 'extract_reference_data': Finished task run for task with final state: 'Success'\n",
            "[2022-03-02 16:22:40+0000] INFO - prefect.TaskRunner | Task 'extract_live_data': Starting task run...\n",
            "[2022-03-02 16:22:41+0000] INFO - prefect.TaskRunner | Task 'extract_live_data': Finished task run for task with final state: 'Success'\n",
            "[2022-03-02 16:22:41+0000] INFO - prefect.TaskRunner | Task 'transform': Starting task run...\n",
            "[2022-03-02 16:22:41+0000] INFO - prefect.TaskRunner | Task 'transform': Finished task run for task with final state: 'Success'\n",
            "[2022-03-02 16:22:41+0000] INFO - prefect.FlowRunner | Flow run SUCCESS: all reference tasks succeeded\n"
          ]
        },
        {
          "output_type": "stream",
          "name": "stderr",
          "text": [
            "/usr/local/lib/python3.7/dist-packages/ipykernel_launcher.py:20: RuntimeWarning: invalid value encountered in double_scalars\n"
          ]
        }
      ]
    },
    {
      "cell_type": "code",
      "source": [
        "!head *csv"
      ],
      "metadata": {
        "colab": {
          "base_uri": "https://localhost:8080/"
        },
        "id": "JCwgXpH9VLcy",
        "outputId": "ef9b8a4d-7f0b-4cdc-ec91-24b0829031e2"
      },
      "execution_count": 61,
      "outputs": [
        {
          "output_type": "stream",
          "name": "stdout",
          "text": [
            "live,ref,fill\n",
            "7,5.998901098901099,1.1668803810221653\n",
            "9,4.816818563764462,1.86845318769206\n",
            "4,3.969943765755284,1.00757094710106\n",
            "7,6.810871953978412,1.027768551119378\n",
            "0,3.867300109883007,0.0\n",
            "6,3.4966711912610693,1.7159177033846609\n",
            "5,6.9109947643979055,0.7234848484848485\n",
            "4,5.951199017516644,0.6721334622193742\n",
            "9,4.456854760519682,2.0193612948137836\n"
          ]
        }
      ]
    },
    {
      "cell_type": "code",
      "source": [
        "from datetime import datetime\n",
        "import time\n",
        "for ix in range(5):\n",
        "  print(datetime.now().strftime('%Y-%m-%d %H:%M:%S'), live_data.run()['slots'].sum())\n",
        "  time.sleep(10)"
      ],
      "metadata": {
        "colab": {
          "base_uri": "https://localhost:8080/"
        },
        "id": "s5-Z0iQbWAAX",
        "outputId": "02dc694b-92b9-4a47-c8e2-3f25b0fdedac"
      },
      "execution_count": 36,
      "outputs": [
        {
          "output_type": "stream",
          "name": "stdout",
          "text": [
            "2022-03-02 16:13:06 1253\n",
            "2022-03-02 16:13:16 1253\n",
            "2022-03-02 16:13:27 1253\n",
            "2022-03-02 16:13:37 1253\n",
            "2022-03-02 16:13:48 1253\n"
          ]
        }
      ]
    },
    {
      "cell_type": "code",
      "source": [
        "rdf= pd.read_csv('s3://quantcldata/BIKES/blc_reference.csv')\n",
        "rdf"
      ],
      "metadata": {
        "colab": {
          "base_uri": "https://localhost:8080/",
          "height": 423
        },
        "id": "qsWPCU1EWu-t",
        "outputId": "8aeaaf62-ece7-49cd-ee42-adb85a0d6501"
      },
      "execution_count": 54,
      "outputs": [
        {
          "output_type": "execute_result",
          "data": {
            "text/html": [
              "\n",
              "  <div id=\"df-5546b91c-1b56-44ef-a671-9366dd2bc377\">\n",
              "    <div class=\"colab-df-container\">\n",
              "      <div>\n",
              "<style scoped>\n",
              "    .dataframe tbody tr th:only-of-type {\n",
              "        vertical-align: middle;\n",
              "    }\n",
              "\n",
              "    .dataframe tbody tr th {\n",
              "        vertical-align: top;\n",
              "    }\n",
              "\n",
              "    .dataframe thead th {\n",
              "        text-align: right;\n",
              "    }\n",
              "</style>\n",
              "<table border=\"1\" class=\"dataframe\">\n",
              "  <thead>\n",
              "    <tr style=\"text-align: right;\">\n",
              "      <th></th>\n",
              "      <th>id</th>\n",
              "      <th>min</th>\n",
              "      <th>mean</th>\n",
              "      <th>max</th>\n",
              "      <th>std</th>\n",
              "      <th>lat</th>\n",
              "      <th>lon</th>\n",
              "    </tr>\n",
              "  </thead>\n",
              "  <tbody>\n",
              "    <tr>\n",
              "      <th>0</th>\n",
              "      <td>1</td>\n",
              "      <td>0</td>\n",
              "      <td>5.998901</td>\n",
              "      <td>13</td>\n",
              "      <td>2.560699</td>\n",
              "      <td>-33.411387</td>\n",
              "      <td>-70.602392</td>\n",
              "    </tr>\n",
              "    <tr>\n",
              "      <th>1</th>\n",
              "      <td>2</td>\n",
              "      <td>0</td>\n",
              "      <td>4.816819</td>\n",
              "      <td>15</td>\n",
              "      <td>3.064665</td>\n",
              "      <td>-33.414113</td>\n",
              "      <td>-70.601854</td>\n",
              "    </tr>\n",
              "    <tr>\n",
              "      <th>2</th>\n",
              "      <td>3</td>\n",
              "      <td>0</td>\n",
              "      <td>3.969944</td>\n",
              "      <td>18</td>\n",
              "      <td>2.632439</td>\n",
              "      <td>-33.413891</td>\n",
              "      <td>-70.592589</td>\n",
              "    </tr>\n",
              "    <tr>\n",
              "      <th>3</th>\n",
              "      <td>4</td>\n",
              "      <td>0</td>\n",
              "      <td>6.810872</td>\n",
              "      <td>11</td>\n",
              "      <td>1.936994</td>\n",
              "      <td>-33.415341</td>\n",
              "      <td>-70.603824</td>\n",
              "    </tr>\n",
              "    <tr>\n",
              "      <th>4</th>\n",
              "      <td>5</td>\n",
              "      <td>0</td>\n",
              "      <td>3.867300</td>\n",
              "      <td>12</td>\n",
              "      <td>2.087277</td>\n",
              "      <td>-33.416998</td>\n",
              "      <td>-70.601671</td>\n",
              "    </tr>\n",
              "    <tr>\n",
              "      <th>...</th>\n",
              "      <td>...</td>\n",
              "      <td>...</td>\n",
              "      <td>...</td>\n",
              "      <td>...</td>\n",
              "      <td>...</td>\n",
              "      <td>...</td>\n",
              "      <td>...</td>\n",
              "    </tr>\n",
              "    <tr>\n",
              "      <th>93</th>\n",
              "      <td>96</td>\n",
              "      <td>0</td>\n",
              "      <td>3.374467</td>\n",
              "      <td>5</td>\n",
              "      <td>0.967429</td>\n",
              "      <td>-33.375038</td>\n",
              "      <td>-70.504996</td>\n",
              "    </tr>\n",
              "    <tr>\n",
              "      <th>94</th>\n",
              "      <td>97</td>\n",
              "      <td>4</td>\n",
              "      <td>4.000000</td>\n",
              "      <td>4</td>\n",
              "      <td>0.000000</td>\n",
              "      <td>-33.375780</td>\n",
              "      <td>-70.509120</td>\n",
              "    </tr>\n",
              "    <tr>\n",
              "      <th>95</th>\n",
              "      <td>98</td>\n",
              "      <td>0</td>\n",
              "      <td>5.481965</td>\n",
              "      <td>7</td>\n",
              "      <td>0.881295</td>\n",
              "      <td>-33.415982</td>\n",
              "      <td>-70.534215</td>\n",
              "    </tr>\n",
              "    <tr>\n",
              "      <th>96</th>\n",
              "      <td>99</td>\n",
              "      <td>0</td>\n",
              "      <td>4.514867</td>\n",
              "      <td>5</td>\n",
              "      <td>0.508260</td>\n",
              "      <td>-33.416379</td>\n",
              "      <td>-70.529415</td>\n",
              "    </tr>\n",
              "    <tr>\n",
              "      <th>97</th>\n",
              "      <td>100</td>\n",
              "      <td>1</td>\n",
              "      <td>7.107111</td>\n",
              "      <td>13</td>\n",
              "      <td>2.462171</td>\n",
              "      <td>-33.410109</td>\n",
              "      <td>-70.585900</td>\n",
              "    </tr>\n",
              "  </tbody>\n",
              "</table>\n",
              "<p>98 rows × 7 columns</p>\n",
              "</div>\n",
              "      <button class=\"colab-df-convert\" onclick=\"convertToInteractive('df-5546b91c-1b56-44ef-a671-9366dd2bc377')\"\n",
              "              title=\"Convert this dataframe to an interactive table.\"\n",
              "              style=\"display:none;\">\n",
              "        \n",
              "  <svg xmlns=\"http://www.w3.org/2000/svg\" height=\"24px\"viewBox=\"0 0 24 24\"\n",
              "       width=\"24px\">\n",
              "    <path d=\"M0 0h24v24H0V0z\" fill=\"none\"/>\n",
              "    <path d=\"M18.56 5.44l.94 2.06.94-2.06 2.06-.94-2.06-.94-.94-2.06-.94 2.06-2.06.94zm-11 1L8.5 8.5l.94-2.06 2.06-.94-2.06-.94L8.5 2.5l-.94 2.06-2.06.94zm10 10l.94 2.06.94-2.06 2.06-.94-2.06-.94-.94-2.06-.94 2.06-2.06.94z\"/><path d=\"M17.41 7.96l-1.37-1.37c-.4-.4-.92-.59-1.43-.59-.52 0-1.04.2-1.43.59L10.3 9.45l-7.72 7.72c-.78.78-.78 2.05 0 2.83L4 21.41c.39.39.9.59 1.41.59.51 0 1.02-.2 1.41-.59l7.78-7.78 2.81-2.81c.8-.78.8-2.07 0-2.86zM5.41 20L4 18.59l7.72-7.72 1.47 1.35L5.41 20z\"/>\n",
              "  </svg>\n",
              "      </button>\n",
              "      \n",
              "  <style>\n",
              "    .colab-df-container {\n",
              "      display:flex;\n",
              "      flex-wrap:wrap;\n",
              "      gap: 12px;\n",
              "    }\n",
              "\n",
              "    .colab-df-convert {\n",
              "      background-color: #E8F0FE;\n",
              "      border: none;\n",
              "      border-radius: 50%;\n",
              "      cursor: pointer;\n",
              "      display: none;\n",
              "      fill: #1967D2;\n",
              "      height: 32px;\n",
              "      padding: 0 0 0 0;\n",
              "      width: 32px;\n",
              "    }\n",
              "\n",
              "    .colab-df-convert:hover {\n",
              "      background-color: #E2EBFA;\n",
              "      box-shadow: 0px 1px 2px rgba(60, 64, 67, 0.3), 0px 1px 3px 1px rgba(60, 64, 67, 0.15);\n",
              "      fill: #174EA6;\n",
              "    }\n",
              "\n",
              "    [theme=dark] .colab-df-convert {\n",
              "      background-color: #3B4455;\n",
              "      fill: #D2E3FC;\n",
              "    }\n",
              "\n",
              "    [theme=dark] .colab-df-convert:hover {\n",
              "      background-color: #434B5C;\n",
              "      box-shadow: 0px 1px 3px 1px rgba(0, 0, 0, 0.15);\n",
              "      filter: drop-shadow(0px 1px 2px rgba(0, 0, 0, 0.3));\n",
              "      fill: #FFFFFF;\n",
              "    }\n",
              "  </style>\n",
              "\n",
              "      <script>\n",
              "        const buttonEl =\n",
              "          document.querySelector('#df-5546b91c-1b56-44ef-a671-9366dd2bc377 button.colab-df-convert');\n",
              "        buttonEl.style.display =\n",
              "          google.colab.kernel.accessAllowed ? 'block' : 'none';\n",
              "\n",
              "        async function convertToInteractive(key) {\n",
              "          const element = document.querySelector('#df-5546b91c-1b56-44ef-a671-9366dd2bc377');\n",
              "          const dataTable =\n",
              "            await google.colab.kernel.invokeFunction('convertToInteractive',\n",
              "                                                     [key], {});\n",
              "          if (!dataTable) return;\n",
              "\n",
              "          const docLinkHtml = 'Like what you see? Visit the ' +\n",
              "            '<a target=\"_blank\" href=https://colab.research.google.com/notebooks/data_table.ipynb>data table notebook</a>'\n",
              "            + ' to learn more about interactive tables.';\n",
              "          element.innerHTML = '';\n",
              "          dataTable['output_type'] = 'display_data';\n",
              "          await google.colab.output.renderOutput(dataTable, element);\n",
              "          const docLink = document.createElement('div');\n",
              "          docLink.innerHTML = docLinkHtml;\n",
              "          element.appendChild(docLink);\n",
              "        }\n",
              "      </script>\n",
              "    </div>\n",
              "  </div>\n",
              "  "
            ],
            "text/plain": [
              "     id  min      mean  max       std        lat        lon\n",
              "0     1    0  5.998901   13  2.560699 -33.411387 -70.602392\n",
              "1     2    0  4.816819   15  3.064665 -33.414113 -70.601854\n",
              "2     3    0  3.969944   18  2.632439 -33.413891 -70.592589\n",
              "3     4    0  6.810872   11  1.936994 -33.415341 -70.603824\n",
              "4     5    0  3.867300   12  2.087277 -33.416998 -70.601671\n",
              "..  ...  ...       ...  ...       ...        ...        ...\n",
              "93   96    0  3.374467    5  0.967429 -33.375038 -70.504996\n",
              "94   97    4  4.000000    4  0.000000 -33.375780 -70.509120\n",
              "95   98    0  5.481965    7  0.881295 -33.415982 -70.534215\n",
              "96   99    0  4.514867    5  0.508260 -33.416379 -70.529415\n",
              "97  100    1  7.107111   13  2.462171 -33.410109 -70.585900\n",
              "\n",
              "[98 rows x 7 columns]"
            ]
          },
          "metadata": {},
          "execution_count": 54
        }
      ]
    },
    {
      "cell_type": "code",
      "source": [
        "for row in reference_data:\n",
        "  print(row)"
      ],
      "metadata": {
        "colab": {
          "base_uri": "https://localhost:8080/",
          "height": 304
        },
        "id": "g_BmxHMUXn9h",
        "outputId": "0515050d-b07d-484c-ca36-8b5c052a16b0"
      },
      "execution_count": 18,
      "outputs": [
        {
          "output_type": "error",
          "ename": "TypeError",
          "evalue": "ignored",
          "traceback": [
            "\u001b[0;31m---------------------------------------------------------------------------\u001b[0m",
            "\u001b[0;31mTypeError\u001b[0m                                 Traceback (most recent call last)",
            "\u001b[0;32m<ipython-input-18-da329ece2df6>\u001b[0m in \u001b[0;36m<module>\u001b[0;34m()\u001b[0m\n\u001b[0;32m----> 1\u001b[0;31m \u001b[0;32mfor\u001b[0m \u001b[0mrow\u001b[0m \u001b[0;32min\u001b[0m \u001b[0mreference_data\u001b[0m\u001b[0;34m:\u001b[0m\u001b[0;34m\u001b[0m\u001b[0;34m\u001b[0m\u001b[0m\n\u001b[0m\u001b[1;32m      2\u001b[0m   \u001b[0mprint\u001b[0m\u001b[0;34m(\u001b[0m\u001b[0mrow\u001b[0m\u001b[0;34m)\u001b[0m\u001b[0;34m\u001b[0m\u001b[0;34m\u001b[0m\u001b[0m\n",
            "\u001b[0;32m/usr/local/lib/python3.7/dist-packages/prefect/core/task.py\u001b[0m in \u001b[0;36m__iter__\u001b[0;34m(self)\u001b[0m\n\u001b[1;32m    980\u001b[0m         \u001b[0;32mif\u001b[0m \u001b[0mself\u001b[0m\u001b[0;34m.\u001b[0m\u001b[0mnout\u001b[0m \u001b[0;32mis\u001b[0m \u001b[0;32mNone\u001b[0m\u001b[0;34m:\u001b[0m\u001b[0;34m\u001b[0m\u001b[0;34m\u001b[0m\u001b[0m\n\u001b[1;32m    981\u001b[0m             raise TypeError(\n\u001b[0;32m--> 982\u001b[0;31m                 \u001b[0;34m\"Task is not iterable. If your task returns multiple results, \"\u001b[0m\u001b[0;34m\u001b[0m\u001b[0;34m\u001b[0m\u001b[0m\n\u001b[0m\u001b[1;32m    983\u001b[0m                 \u001b[0;34m\"pass `nout` to the task decorator/constructor, or provide a \"\u001b[0m\u001b[0;34m\u001b[0m\u001b[0;34m\u001b[0m\u001b[0m\n\u001b[1;32m    984\u001b[0m                 \u001b[0;34m\"`Tuple` return-type annotation to your task.\"\u001b[0m\u001b[0;34m\u001b[0m\u001b[0;34m\u001b[0m\u001b[0m\n",
            "\u001b[0;31mTypeError\u001b[0m: Task is not iterable. If your task returns multiple results, pass `nout` to the task decorator/constructor, or provide a `Tuple` return-type annotation to your task."
          ]
        }
      ]
    },
    {
      "cell_type": "code",
      "source": [
        ""
      ],
      "metadata": {
        "id": "v1SoQNgLXsSI"
      },
      "execution_count": null,
      "outputs": []
    }
  ]
}