{
  "nbformat": 4,
  "nbformat_minor": 0,
  "metadata": {
    "colab": {
      "name": "Scrapers.ipynb",
      "provenance": [],
      "collapsed_sections": [],
      "authorship_tag": "ABX9TyMycmQDPubT2arqkgQFaSZ+",
      "include_colab_link": true
    },
    "kernelspec": {
      "name": "python3",
      "display_name": "Python 3"
    },
    "language_info": {
      "name": "python"
    }
  },
  "cells": [
    {
      "cell_type": "markdown",
      "metadata": {
        "id": "view-in-github",
        "colab_type": "text"
      },
      "source": [
        "<a href=\"https://colab.research.google.com/github/sergiolucero/notebooks/blob/main/Scrapers.ipynb\" target=\"_parent\"><img src=\"https://colab.research.google.com/assets/colab-badge.svg\" alt=\"Open In Colab\"/></a>"
      ]
    },
    {
      "cell_type": "markdown",
      "source": [
        "## 1. Mercurio Valpo"
      ],
      "metadata": {
        "id": "5RCUGsehm-A5"
      }
    },
    {
      "cell_type": "code",
      "execution_count": 1,
      "metadata": {
        "colab": {
          "base_uri": "https://localhost:8080/"
        },
        "id": "up1CPBiahA8o",
        "outputId": "2edd7da1-6803-4f5d-a607-74a2f3d99f4b"
      },
      "outputs": [
        {
          "output_type": "stream",
          "name": "stdout",
          "text": [
            "Collecting pypdf2\n",
            "  Downloading PyPDF2-1.26.0.tar.gz (77 kB)\n",
            "\u001b[?25l\r\u001b[K     |████▎                           | 10 kB 16.1 MB/s eta 0:00:01\r\u001b[K     |████████▌                       | 20 kB 21.7 MB/s eta 0:00:01\r\u001b[K     |████████████▊                   | 30 kB 13.7 MB/s eta 0:00:01\r\u001b[K     |█████████████████               | 40 kB 10.3 MB/s eta 0:00:01\r\u001b[K     |█████████████████████▏          | 51 kB 3.7 MB/s eta 0:00:01\r\u001b[K     |█████████████████████████▍      | 61 kB 4.4 MB/s eta 0:00:01\r\u001b[K     |█████████████████████████████▋  | 71 kB 4.7 MB/s eta 0:00:01\r\u001b[K     |████████████████████████████████| 77 kB 2.8 MB/s \n",
            "\u001b[?25hBuilding wheels for collected packages: pypdf2\n",
            "  Building wheel for pypdf2 (setup.py) ... \u001b[?25l\u001b[?25hdone\n",
            "  Created wheel for pypdf2: filename=PyPDF2-1.26.0-py3-none-any.whl size=61102 sha256=955bb3b275670ea826c2ff225902f4497105eeef2a7742cd182e644d06e0daba\n",
            "  Stored in directory: /root/.cache/pip/wheels/80/1a/24/648467ade3a77ed20f35cfd2badd32134e96dd25ca811e64b3\n",
            "Successfully built pypdf2\n",
            "Installing collected packages: pypdf2\n",
            "Successfully installed pypdf2-1.26.0\n"
          ]
        }
      ],
      "source": [
        "!pip install pypdf2"
      ]
    },
    {
      "cell_type": "code",
      "source": [
        "import requests, datetime\n",
        "import io, glob, os\n",
        "import PyPDF2\n",
        "from bs4 import BeautifulSoup\n",
        "\n",
        "fecha = datetime.datetime.now().strftime('%Y%m%d')\n",
        "print('FECHA:', fecha)\n",
        "root='https://www.mercuriovalpo.cl/impresa/%s/%s/%s/' %(fecha[:4], fecha[4:6], fecha[6:])\n",
        "base = root + 'papel'\n",
        "\n",
        "bs = BeautifulSoup(requests.get(base).text, 'lxml')\n",
        "links = set([link['href'] for link in bs.find_all('a') if root in link.get('href','')])\n",
        "\n",
        "pdfWriter = PyPDF2.PdfFileWriter()\n",
        "for link in sorted(links):\n",
        "    print(link)\n",
        "    bs2 = BeautifulSoup(requests.get(link).text, 'lxml')\n",
        "    pdf = bs2.find('section', attrs={'ref':'page'})['data-page']\n",
        "    pdfFileObj = io.BytesIO(requests.get(pdf).content)\n",
        "    pdfReader = PyPDF2.PdfFileReader(pdfFileObj)\n",
        "    pdfWriter.addPage(pdfReader.getPage(0))\n",
        "\n",
        "pdfWriter.write(open(f'MercurioValpo_{fecha}.pdf', 'wb'))"
      ],
      "metadata": {
        "id": "Now4oSP8hE1m"
      },
      "execution_count": null,
      "outputs": []
    },
    {
      "cell_type": "code",
      "source": [
        "l2=[link['href'] for link in bs.find_all('a') if root in link.get('href','')]\n",
        "l2"
      ],
      "metadata": {
        "id": "JH6xygvRhWEq"
      },
      "execution_count": null,
      "outputs": []
    },
    {
      "cell_type": "code",
      "source": [
        "[x.text.split(chr(10)) for x in bs.find_all('a') if '8/' in x.get('href','')]"
      ],
      "metadata": {
        "colab": {
          "base_uri": "https://localhost:8080/"
        },
        "id": "uoLm13rLhlU8",
        "outputId": "bf254960-fb05-4d53-ff8a-793c7c078f74"
      },
      "execution_count": 12,
      "outputs": [
        {
          "output_type": "execute_result",
          "data": {
            "text/plain": [
              "[['Deportes | Pág. 18Betis de Pellegrini pierde terreno en la liga española'],\n",
              " ['Deportes | Pág. 18AC Milan consiguió una victoria clave de visita y es líder en la Serie A'],\n",
              " ['Deportes | Pág. 18El City de Guardiola goleó al United en el clásico de Manchester'],\n",
              " ['Deportes | Pág. 18Emotiva jornada marcó el inicio del campeonato'],\n",
              " ['Deportes | Pág. 18Tras victoria en la Davis los tenistas chilenos miden fuerzas en el Challenger de Santiago'],\n",
              " ['Opinión | Pág. 8Nuestro archivo'],\n",
              " ['Opinión | Pág. 8El \"Almirante Latorre\" viajará al dique Balboa'],\n",
              " ['Opinión | Pág. 8Crear comunidad educativa'],\n",
              " ['Opinión | Pág. 8Frases'],\n",
              " ['Opinión | Pág. 8Normalizada actividad naviera tras la huelga'],\n",
              " ['Opinión | Pág. 8Proyecciones de un rescate patrimonial'],\n",
              " ['', '', ''],\n",
              " ['', '', '']]"
            ]
          },
          "metadata": {},
          "execution_count": 12
        }
      ]
    },
    {
      "cell_type": "code",
      "source": [
        ""
      ],
      "metadata": {
        "id": "wyY_10BCmvDR"
      },
      "execution_count": null,
      "outputs": []
    }
  ]
}