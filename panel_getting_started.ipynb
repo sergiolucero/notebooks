{
  "nbformat": 4,
  "nbformat_minor": 0,
  "metadata": {
    "colab": {
      "name": "panel_getting_started.ipynb",
      "provenance": [],
      "collapsed_sections": [],
      "include_colab_link": true
    },
    "kernelspec": {
      "name": "python3",
      "display_name": "Python 3"
    },
    "language_info": {
      "name": "python"
    }
  },
  "cells": [
    {
      "cell_type": "markdown",
      "metadata": {
        "id": "view-in-github",
        "colab_type": "text"
      },
      "source": [
        "<a href=\"https://colab.research.google.com/github/sergiolucero/notebooks/blob/main/panel_getting_started.ipynb\" target=\"_parent\"><img src=\"https://colab.research.google.com/assets/colab-badge.svg\" alt=\"Open In Colab\"/></a>"
      ]
    },
    {
      "cell_type": "markdown",
      "source": [
        "# Panel - Getting Started Example\n",
        "\n",
        "This example shows how to develop a Panel data app like the below end to end in Google Colab.\n",
        "\n",
        "![Panel Example App](https://user-images.githubusercontent.com/42288570/148636772-c2cc4888-0bf0-4356-8cc5-a962519e4506.gif)."
      ],
      "metadata": {
        "id": "xSDoNd9-k06z"
      }
    },
    {
      "cell_type": "code",
      "execution_count": null,
      "metadata": {
        "id": "pRTbZL9vihEe"
      },
      "outputs": [],
      "source": [
        "!pip install panel==0.12.6 -U"
      ]
    },
    {
      "cell_type": "markdown",
      "source": [
        "Please note that when you `panel serve` the app you will need to remove or change the `!pip install` cell to a comment."
      ],
      "metadata": {
        "id": "T3ZjRTQsLfeI"
      }
    },
    {
      "cell_type": "markdown",
      "source": [
        "## Data Import"
      ],
      "metadata": {
        "id": "vJTx73WGl9CE"
      }
    },
    {
      "cell_type": "code",
      "source": [
        "import pandas as pd"
      ],
      "metadata": {
        "id": "5DdvrKv33lXS"
      },
      "execution_count": null,
      "outputs": []
    },
    {
      "cell_type": "code",
      "source": [
        "data_url = \"https://cdn.jsdelivr.net/gh/holoviz/panel@master/examples/assets/occupancy.csv\"\n",
        "data = pd.read_csv(data_url, parse_dates=[\"date\"]).set_index(\"date\")\n",
        "data.head()"
      ],
      "metadata": {
        "id": "_SIb3HVDl7P3"
      },
      "execution_count": null,
      "outputs": []
    },
    {
      "cell_type": "markdown",
      "source": [
        "# Data Visualization\n",
        "\n",
        "For simplicity we will be using Matplotlib. But you can use any of your favorite plotting libraries."
      ],
      "metadata": {
        "id": "CvI7iKvmklmj"
      }
    },
    {
      "cell_type": "code",
      "source": [
        "import numpy as np\n",
        "from matplotlib.figure import Figure"
      ],
      "metadata": {
        "id": "3USESUAMikg6"
      },
      "execution_count": null,
      "outputs": []
    },
    {
      "cell_type": "code",
      "source": [
        "primary_color = \"#0072B5\"\n",
        "secondary_color = \"#94EA84\""
      ],
      "metadata": {
        "id": "CkInyLQZjGaI"
      },
      "execution_count": null,
      "outputs": []
    },
    {
      "cell_type": "code",
      "source": [
        "def mpl_plot(avg, highlight):\n",
        "    fig = Figure()\n",
        "    ax = fig.add_subplot()\n",
        "    avg.plot(ax=ax, c=primary_color)\n",
        "    if len(highlight):\n",
        "        highlight.plot(style=\"o\", ax=ax, c=secondary_color)\n",
        "    return fig"
      ],
      "metadata": {
        "id": "EvQJRtcNjJAI"
      },
      "execution_count": null,
      "outputs": []
    },
    {
      "cell_type": "code",
      "source": [
        "def find_outliers(variable=\"Temperature\", window=20, sigma=10, view_fn=mpl_plot):\n",
        "    avg = data[variable].rolling(window=window).mean()\n",
        "    residual = data[variable] - avg\n",
        "    std = residual.rolling(window=window).std()\n",
        "    outliers = np.abs(residual) > std * sigma\n",
        "    return view_fn(avg, avg[outliers])\n",
        "\n",
        "find_outliers()"
      ],
      "metadata": {
        "id": "bIYH47UFjPXD"
      },
      "execution_count": null,
      "outputs": []
    },
    {
      "cell_type": "markdown",
      "source": [
        "## Data Exploration\n",
        "\n",
        "Panel can also help you with **interactive data exploration**."
      ],
      "metadata": {
        "id": "AuGzJDN5mbb3"
      }
    },
    {
      "cell_type": "code",
      "source": [
        "import panel as pn\n",
        "\n",
        "pn.extension(sizing_mode=\"stretch_width\", comms='colab')"
      ],
      "metadata": {
        "id": "x6JdIlvxmZjM"
      },
      "execution_count": null,
      "outputs": []
    },
    {
      "cell_type": "code",
      "source": [
        "# Widgets\n",
        "variable = pn.widgets.RadioBoxGroup(\n",
        "    name=\"Variable\", value=\"Temperature\", options=list(data.columns), margin=(-10, 5, 10, 10)\n",
        ")\n",
        "window = pn.widgets.IntSlider(name=\"Window\", value=20, start=1, end=60)"
      ],
      "metadata": {
        "id": "16SYxO6ymhGd"
      },
      "execution_count": null,
      "outputs": []
    },
    {
      "cell_type": "code",
      "source": [
        "# Reactive Functions\n",
        "reactive_outliers = pn.bind(find_outliers, variable, window, 10)"
      ],
      "metadata": {
        "id": "-uWaBjjWmlZh"
      },
      "execution_count": null,
      "outputs": []
    },
    {
      "cell_type": "code",
      "source": [
        "# Layouts\n",
        "settings = pn.Column(pn.pane.Markdown(\"Variable\"), variable, window)\n",
        "pn.Row(pn.WidgetBox(settings, sizing_mode=\"fixed\", background=\"white\", margin=20), reactive_outliers)"
      ],
      "metadata": {
        "id": "_obqZ2i8mstY"
      },
      "execution_count": null,
      "outputs": []
    },
    {
      "cell_type": "markdown",
      "source": [
        "## Layout the App"
      ],
      "metadata": {
        "id": "Q3O8ozUYo9JK"
      }
    },
    {
      "cell_type": "code",
      "source": [
        "template = pn.template.FastListTemplate(\n",
        "    site=\"Panel\",\n",
        "    title=\"Getting Started Example\",\n",
        "    sidebar=[settings],\n",
        "    main=[reactive_outliers],\n",
        "    accent_base_color=primary_color,\n",
        "    header_background=primary_color,\n",
        ")\n",
        "template.servable();"
      ],
      "metadata": {
        "id": "gOeMU71OoyU_"
      },
      "execution_count": null,
      "outputs": []
    },
    {
      "cell_type": "markdown",
      "source": [
        "![Panel Example App](https://user-images.githubusercontent.com/42288570/148636772-c2cc4888-0bf0-4356-8cc5-a962519e4506.gif).\n",
        "\n",
        "## Support us\n",
        "\n",
        "If you want to support us please give us a ⭐ on Github ([Panel](https://github.com/holoviz/panel), [Awesome-Panel](https://github.com/marcskovmadsen/awesome-panel))."
      ],
      "metadata": {
        "id": "1xZe7Rf3CREw"
      }
    }
  ]
}